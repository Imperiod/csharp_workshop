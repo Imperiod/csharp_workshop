{
 "cells": [
  {
   "cell_type": "markdown",
   "metadata": {},
   "source": [
    "# Top level statements\n",
    "\n",
    "* Simple way of running few C# lines without boilerplate.\n",
    "* Top-level programs reduce indentation.\n",
    "* Before C# 9, we already have that as part: LINQPad, dotnet-script.\n",
    "* Great for beginners.\n",
    "\n",
    "## Demo\n",
    "\n",
    "[sharplab-top-level-statements](https://sharplab.io/#v2:EYLgtghgzgLgpgJwDQxAgrgOyQExAagB8BiTdAG3ImHLgAI5NraBYAKAAEAGOjgRgBsvPgDoAwgHtMUCbQDc7dgDcICOlAAOcODgDyAMwAyASwDmACxh0AvHQBMATgcB2B3ZEAWAKwAOACIKnKIAYhIIkDAwzHAAyjAIxpimdPpQNnQAJABEACrm9JraOHQS+nTkZpZ0xmkA3oU6BiYWqAByAMwAvnQA1mAA9FAiWYEA6gnwABSpAJRyQA==)\n",
    "\n",
    "## Demo\n",
    "\n",
    "`samples\\projects\\simple-webapi\\`\n",
    "\n",
    "Host:\n",
    "\n",
    "```csharp\n",
    "WebHost.Start(routes => routes.MapGet(\n",
    "    \"hello/{name}\", (req, res, data) => res.WriteAsync($\"Hello, {data.Values[\"name\"]}\")));\n",
    "```\n",
    "\n",
    "Run: \n",
    "\n",
    "```bash\n",
    "rg hello -C 3\n",
    "\n",
    "dotnet run\n",
    "\n",
    "dotnet-counters ps\n",
    "netstat -ao | grep <pid>\n",
    "\n",
    "curl -s localhost:5000/hello/itvdn\n",
    "dotnet-counters -p <pid> System.Runtime\n",
    "\n",
    "bombardier localhost:5000/hello/itvdn\n",
    "```\n",
    "\n",
    "## Project highlight \n",
    "\n",
    "* [github.com/kzu/SmallSharp](https://github.com/kzu/SmallSharp)\n",
    "* [github.com/Tyrrrz/Hallstatt](https://github.com/Tyrrrz/Hallstatt) // just like mochajs"
   ]
  },
  {
   "cell_type": "markdown",
   "metadata": {},
   "source": [
    "## Reference\n",
    "\n",
    "* https://docs.microsoft.com/en-us/dotnet/csharp/whats-new/csharp-9#top-level-statements\n",
    "* https://docs.microsoft.com/en-us/dotnet/csharp/language-reference/proposals/csharp-9.0/top-level-statements\n",
    "* https://www.youtube.com/watch?v=iGrZys6Vo_E&ab_channel=FilipEkberg\n"
   ]
  }
 ],
 "metadata": {
  "kernelspec": {
   "display_name": ".NET (C#)",
   "language": "C#",
   "name": ".net-csharp"
  },
  "language_info": {
   "file_extension": ".cs",
   "mimetype": "text/x-csharp",
   "name": "C#",
   "pygments_lexer": "csharp",
   "version": "8.0"
  }
 },
 "nbformat": 4,
 "nbformat_minor": 4
}
