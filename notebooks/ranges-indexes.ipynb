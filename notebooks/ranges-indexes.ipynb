{
 "cells": [
  {
   "cell_type": "markdown",
   "metadata": {},
   "source": [
    "# Indexes and Ranges\n",
    "\n",
    "* Getting more expressiveness around working with indexed data structures\n",
    "* The new operators (^ and ..) are syntactic sugar. The functionality can be implemented by explicit calls to System.Index and System.Range factory methods\n",
    "* Implicit Index support. Pattern based approach to get indexes and ranges out of the box for certain scenarios\n",
    "* No special IL representation\n",
    "\n",
    "```csharp\n",
    "namespace System\n",
    "{\n",
    "    public readonly struct Index\n",
    "    {\n",
    "        public Index(int value, bool fromEnd);\n",
    "        //...\n",
    "    }\n",
    "}\n",
    "namespace System\n",
    "{\n",
    "    public readonly struct Range\n",
    "    {\n",
    "        public Range(System.Index start, System.Index end);\n",
    "        public static Range StartAt(System.Index start);\n",
    "        public static Range EndAt(System.Index end);\n",
    "        public static Range All { get; }\n",
    "    }\n",
    "}\n",
    "\n",
    "System.Index operator ^(int fromEnd);\n",
    "System.Range operator ..(Index start = 0, Index end = ^0);\n",
    "```\n"
   ]
  },
  {
   "cell_type": "code",
   "execution_count": 10,
   "metadata": {},
   "outputs": [
    {
     "data": {
      "text/plain": [
       "0..^0 == .. == ..^0 == 0.."
      ]
     },
     "metadata": {},
     "output_type": "display_data"
    },
    {
     "data": {
      "text/html": [
       "<table><thead><tr><th><i>index</i></th><th>value</th></tr></thead><tbody><tr><td>0</td><td><div class=\"dni-plaintext\">Archimedes</div></td></tr><tr><td>1</td><td><div class=\"dni-plaintext\">Pythagoras</div></td></tr><tr><td>2</td><td><div class=\"dni-plaintext\">Euclid</div></td></tr><tr><td>3</td><td><div class=\"dni-plaintext\">Socrates</div></td></tr><tr><td>4</td><td><div class=\"dni-plaintext\">Plato</div></td></tr></tbody></table>"
      ]
     },
     "metadata": {},
     "output_type": "display_data"
    },
    {
     "data": {
      "text/plain": [
       "^2"
      ]
     },
     "metadata": {},
     "output_type": "display_data"
    },
    {
     "data": {
      "text/plain": [
       "Socrates"
      ]
     },
     "metadata": {},
     "output_type": "display_data"
    },
    {
     "data": {
      "text/plain": [
       "^2..^0"
      ]
     },
     "metadata": {},
     "output_type": "display_data"
    },
    {
     "data": {
      "text/html": [
       "<table><thead><tr><th><i>index</i></th><th>value</th></tr></thead><tbody><tr><td>0</td><td><div class=\"dni-plaintext\">Socrates</div></td></tr><tr><td>1</td><td><div class=\"dni-plaintext\">Plato</div></td></tr></tbody></table>"
      ]
     },
     "metadata": {},
     "output_type": "display_data"
    }
   ],
   "source": [
    "string[] names =\n",
    "{\n",
    "    \"Archimedes\", \"Pythagoras\", \"Euclid\", \"Socrates\", \"Plato\"\n",
    "};\n",
    "\n",
    "display(\"0..^0 == .. == ..^0 == 0..\");\n",
    "display(names[..]);\n",
    "\n",
    "display(\"^2\");\n",
    "display(names[^2]);\n",
    "\n",
    "display(\"^2..^0\");\n",
    "display(names[^2..^0]);"
   ]
  },
  {
   "cell_type": "code",
   "execution_count": 18,
   "metadata": {},
   "outputs": [
    {
     "data": {
      "text/html": [
       "<table><thead><tr><th><i>index</i></th><th>value</th></tr></thead><tbody><tr><td>0</td><td><div class=\"dni-plaintext\">1</div></td></tr><tr><td>1</td><td><div class=\"dni-plaintext\">2</div></td></tr><tr><td>2</td><td><div class=\"dni-plaintext\">3</div></td></tr><tr><td>3</td><td><div class=\"dni-plaintext\">4</div></td></tr><tr><td>4</td><td><div class=\"dni-plaintext\">5</div></td></tr></tbody></table>"
      ]
     },
     "metadata": {},
     "output_type": "display_data"
    },
    {
     "data": {
      "text/plain": [
       "[2..^3] == array[new Range(2, new Index(3, fromEnd: true))]"
      ]
     },
     "metadata": {},
     "output_type": "display_data"
    },
    {
     "data": {
      "text/html": [
       "<i>(empty)</i>"
      ]
     },
     "metadata": {},
     "output_type": "display_data"
    },
    {
     "data": {
      "text/plain": [
       "[..^3] == array[Range.EndAt(new Index(3, fromEnd: true))]"
      ]
     },
     "metadata": {},
     "output_type": "display_data"
    },
    {
     "data": {
      "text/html": [
       "<table><thead><tr><th><i>index</i></th><th>value</th></tr></thead><tbody><tr><td>0</td><td><div class=\"dni-plaintext\">1</div></td></tr><tr><td>1</td><td><div class=\"dni-plaintext\">2</div></td></tr></tbody></table>"
      ]
     },
     "metadata": {},
     "output_type": "display_data"
    },
    {
     "data": {
      "text/plain": [
       "[2..] == array[Range.StartAt(2)]"
      ]
     },
     "metadata": {},
     "output_type": "display_data"
    },
    {
     "data": {
      "text/html": [
       "<table><thead><tr><th><i>index</i></th><th>value</th></tr></thead><tbody><tr><td>0</td><td><div class=\"dni-plaintext\">3</div></td></tr><tr><td>1</td><td><div class=\"dni-plaintext\">4</div></td></tr><tr><td>2</td><td><div class=\"dni-plaintext\">5</div></td></tr></tbody></table>"
      ]
     },
     "metadata": {},
     "output_type": "display_data"
    },
    {
     "data": {
      "text/plain": [
       "[..] == array[Range.All]"
      ]
     },
     "metadata": {},
     "output_type": "display_data"
    },
    {
     "data": {
      "text/html": [
       "<table><thead><tr><th><i>index</i></th><th>value</th></tr></thead><tbody><tr><td>0</td><td><div class=\"dni-plaintext\">1</div></td></tr><tr><td>1</td><td><div class=\"dni-plaintext\">2</div></td></tr><tr><td>2</td><td><div class=\"dni-plaintext\">3</div></td></tr><tr><td>3</td><td><div class=\"dni-plaintext\">4</div></td></tr><tr><td>4</td><td><div class=\"dni-plaintext\">5</div></td></tr></tbody></table>"
      ]
     },
     "metadata": {},
     "output_type": "display_data"
    },
    {
     "ename": "Unhandled exception",
     "evalue": "System.IndexOutOfRangeException: Index was outside the bounds of the array.\n   at Submission#21.<<Initialize>>d__0.MoveNext()\n--- End of stack trace from previous location where exception was thrown ---\n   at Microsoft.CodeAnalysis.Scripting.ScriptExecutionState.RunSubmissionsAsync[TResult](ImmutableArray`1 precedingExecutors, Func`2 currentExecutor, StrongBox`1 exceptionHolderOpt, Func`2 catchExceptionOpt, CancellationToken cancellationToken)",
     "output_type": "error",
     "traceback": [
      "System.IndexOutOfRangeException: Index was outside the bounds of the array.\n   at Submission#21.<<Initialize>>d__0.MoveNext()\n--- End of stack trace from previous location where exception was thrown ---\n   at Microsoft.CodeAnalysis.Scripting.ScriptExecutionState.RunSubmissionsAsync[TResult](ImmutableArray`1 precedingExecutors, Func`2 currentExecutor, StrongBox`1 exceptionHolderOpt, Func`2 catchExceptionOpt, CancellationToken cancellationToken)",
      "   at Submission#21.<<Initialize>>d__0.MoveNext()",
      "--- End of stack trace from previous location where exception was thrown ---",
      "   at Microsoft.CodeAnalysis.Scripting.ScriptExecutionState.RunSubmissionsAsync[TResult](ImmutableArray`1 precedingExecutors, Func`2 currentExecutor, StrongBox`1 exceptionHolderOpt, Func`2 catchExceptionOpt, CancellationToken cancellationToken)"
     ]
    }
   ],
   "source": [
    "var array = new int[] { 1, 2, 3, 4, 5 };\n",
    "\n",
    "display(array);\n",
    "\n",
    "display(\"[2..^3] == array[new Range(2, new Index(3, fromEnd: true))]\");\n",
    "var slice1 = array[2..^3];    // array[new Range(2, new Index(3, fromEnd: true))]\n",
    "display(slice1);\n",
    "\n",
    "display(\"[..^3] == array[Range.EndAt(new Index(3, fromEnd: true))]\");\n",
    "var slice2 = array[..^3];     // array[Range.EndAt(new Index(3, fromEnd: true))]\n",
    "display(slice2);\n",
    "\n",
    "display(\"[2..] == array[Range.StartAt(2)]\");\n",
    "var slice3 = array[2..];      // array[Range.StartAt(2)]\n",
    "display(slice3);\n",
    "\n",
    "display(\"[..] == array[Range.All]\");\n",
    "var slice4 = array[..];       // array[Range.All]\n",
    "display(slice4);\n",
    "\n",
    "display(array[^10]);"
   ]
  },
  {
   "cell_type": "markdown",
   "metadata": {},
   "source": [
    "## Demo"
   ]
  },
  {
   "cell_type": "code",
   "execution_count": 29,
   "metadata": {},
   "outputs": [
    {
     "data": {
      "text/html": [
       "<table><thead><tr><th><i>index</i></th><th>Label</th><th>Min</th><th>Max</th><th>Average</th></tr></thead><tbody><tr><td>0</td><td><div class=\"dni-plaintext\">From 0 to 10</div></td><td><div class=\"dni-plaintext\">0</div></td><td><div class=\"dni-plaintext\">300</div></td><td><div class=\"dni-plaintext\">192.7</div></td></tr><tr><td>1</td><td><div class=\"dni-plaintext\">From 100 to 110</div></td><td><div class=\"dni-plaintext\">1000</div></td><td><div class=\"dni-plaintext\">1044</div></td><td><div class=\"dni-plaintext\">1021.6</div></td></tr><tr><td>2</td><td><div class=\"dni-plaintext\">From 200 to 210</div></td><td><div class=\"dni-plaintext\">1414</div></td><td><div class=\"dni-plaintext\">1445</div></td><td><div class=\"dni-plaintext\">1429.5</div></td></tr><tr><td>3</td><td><div class=\"dni-plaintext\">From 300 to 310</div></td><td><div class=\"dni-plaintext\">1732</div></td><td><div class=\"dni-plaintext\">1757</div></td><td><div class=\"dni-plaintext\">1744.4</div></td></tr><tr><td>4</td><td><div class=\"dni-plaintext\">From 400 to 410</div></td><td><div class=\"dni-plaintext\">2000</div></td><td><div class=\"dni-plaintext\">2022</div></td><td><div class=\"dni-plaintext\">2010.6</div></td></tr><tr><td>5</td><td><div class=\"dni-plaintext\">From 500 to 510</div></td><td><div class=\"dni-plaintext\">2236</div></td><td><div class=\"dni-plaintext\">2256</div></td><td><div class=\"dni-plaintext\">2245.6</div></td></tr><tr><td>6</td><td><div class=\"dni-plaintext\">From 600 to 610</div></td><td><div class=\"dni-plaintext\">2449</div></td><td><div class=\"dni-plaintext\">2467</div></td><td><div class=\"dni-plaintext\">2458</div></td></tr><tr><td>7</td><td><div class=\"dni-plaintext\">From 700 to 710</div></td><td><div class=\"dni-plaintext\">2645</div></td><td><div class=\"dni-plaintext\">2662</div></td><td><div class=\"dni-plaintext\">2653.7</div></td></tr><tr><td>8</td><td><div class=\"dni-plaintext\">From 800 to 810</div></td><td><div class=\"dni-plaintext\">2828</div></td><td><div class=\"dni-plaintext\">2844</div></td><td><div class=\"dni-plaintext\">2835.9</div></td></tr><tr><td>9</td><td><div class=\"dni-plaintext\">From 900 to 910</div></td><td><div class=\"dni-plaintext\">3000</div></td><td><div class=\"dni-plaintext\">3014</div></td><td><div class=\"dni-plaintext\">3006.9</div></td></tr></tbody></table>"
      ]
     },
     "metadata": {},
     "output_type": "display_data"
    },
    {
     "data": {
      "text/html": [
       "<table><thead><tr><th><i>index</i></th><th>Label</th><th>Min</th><th>Max</th><th>Average</th></tr></thead><tbody><tr><td>0</td><td><div class=\"dni-plaintext\">From ^10 to ^0</div></td><td><div class=\"dni-plaintext\">3146</div></td><td><div class=\"dni-plaintext\">3160</div></td><td><div class=\"dni-plaintext\">3153.1</div></td></tr><tr><td>1</td><td><div class=\"dni-plaintext\">From ^110 to ^100</div></td><td><div class=\"dni-plaintext\">2983</div></td><td><div class=\"dni-plaintext\">2998</div></td><td><div class=\"dni-plaintext\">2990.2</div></td></tr><tr><td>2</td><td><div class=\"dni-plaintext\">From ^210 to ^200</div></td><td><div class=\"dni-plaintext\">2810</div></td><td><div class=\"dni-plaintext\">2826</div></td><td><div class=\"dni-plaintext\">2818.2</div></td></tr><tr><td>3</td><td><div class=\"dni-plaintext\">From ^310 to ^300</div></td><td><div class=\"dni-plaintext\">2626</div></td><td><div class=\"dni-plaintext\">2643</div></td><td><div class=\"dni-plaintext\">2634.8</div></td></tr><tr><td>4</td><td><div class=\"dni-plaintext\">From ^410 to ^400</div></td><td><div class=\"dni-plaintext\">2428</div></td><td><div class=\"dni-plaintext\">2447</div></td><td><div class=\"dni-plaintext\">2437.9</div></td></tr><tr><td>5</td><td><div class=\"dni-plaintext\">From ^510 to ^500</div></td><td><div class=\"dni-plaintext\">2213</div></td><td><div class=\"dni-plaintext\">2233</div></td><td><div class=\"dni-plaintext\">2223.2</div></td></tr><tr><td>6</td><td><div class=\"dni-plaintext\">From ^610 to ^600</div></td><td><div class=\"dni-plaintext\">1974</div></td><td><div class=\"dni-plaintext\">1997</div></td><td><div class=\"dni-plaintext\">1985.5</div></td></tr><tr><td>7</td><td><div class=\"dni-plaintext\">From ^710 to ^700</div></td><td><div class=\"dni-plaintext\">1702</div></td><td><div class=\"dni-plaintext\">1729</div></td><td><div class=\"dni-plaintext\">1715.5</div></td></tr><tr><td>8</td><td><div class=\"dni-plaintext\">From ^810 to ^800</div></td><td><div class=\"dni-plaintext\">1378</div></td><td><div class=\"dni-plaintext\">1410</div></td><td><div class=\"dni-plaintext\">1394.2</div></td></tr><tr><td>9</td><td><div class=\"dni-plaintext\">From ^910 to ^900</div></td><td><div class=\"dni-plaintext\">948</div></td><td><div class=\"dni-plaintext\">994</div></td><td><div class=\"dni-plaintext\">971.3</div></td></tr></tbody></table>"
      ]
     },
     "metadata": {},
     "output_type": "display_data"
    }
   ],
   "source": [
    "public class StatInfo\n",
    "{\n",
    "    public string Label {get; set;}\n",
    "    public int Min {get; set;}\n",
    "    public int Max {get; set;}\n",
    "    public double Average {get; set;}\n",
    "}\n",
    "\n",
    "int[] sequence = Sequence(1000);\n",
    "\n",
    "IEnumerable<StatInfo> LeftToRightAverage()\n",
    "{\n",
    "    for(int start = 0; start < sequence.Length; start += 100)\n",
    "    {\n",
    "        Range r = start..(start+10);\n",
    "        var (min, max, average) = MovingAverage(sequence, r);\n",
    "        // Console.WriteLine($\"From {r.Start} to {r.End}:    \\tMin: {min},\\tMax: {max},\\tAverage: {average}\");\n",
    "        yield return new StatInfo() \n",
    "        {\n",
    "            Label = $\"From {r.Start} to {r.End}\",\n",
    "            Min = min, \n",
    "            Max = max,\n",
    "            Average = average,\n",
    "        };\n",
    "    }\n",
    "}\n",
    "\n",
    "display(LeftToRightAverage().ToList());\n",
    "\n",
    "IEnumerable<StatInfo> RightToLeftAverage()\n",
    "{\n",
    "    for (int start = 0; start < sequence.Length; start += 100)\n",
    "    {\n",
    "        Range r = ^(start + 10)..^start;\n",
    "        var (min, max, average) = MovingAverage(sequence, r);\n",
    "        // Console.WriteLine($\"From {r.Start} to {r.End}:  \\tMin: {min},\\tMax: {max},\\tAverage: {average}\");\n",
    "        yield return new StatInfo() \n",
    "        {\n",
    "            Label = $\"From {r.Start} to {r.End}\",\n",
    "            Min = min, \n",
    "            Max = max,\n",
    "            Average = average,\n",
    "        };\n",
    "    }\n",
    "}\n",
    "\n",
    "display(RightToLeftAverage().ToList());\n",
    "\n",
    "(int min, int max, double average) MovingAverage(int[] subSequence, Range range) =>\n",
    "    (\n",
    "        subSequence[range].Min(),\n",
    "        subSequence[range].Max(),\n",
    "        subSequence[range].Average()\n",
    "    );\n",
    "\n",
    "int[] Sequence(int count) => Enumerable.Range(0, count).Select(x => (int)(Math.Sqrt(x) * 100)).ToArray();"
   ]
  },
  {
   "cell_type": "markdown",
   "metadata": {},
   "source": [
    "# Reference\n",
    "\n",
    "* <https://docs.microsoft.com/en-us/dotnet/csharp/tutorials/ranges-indexes>\n",
    "* <https://docs.microsoft.com/en-us/dotnet/csharp/language-reference/proposals/csharp-8.0/ranges>\n"
   ]
  }
 ],
 "metadata": {
  "kernelspec": {
   "display_name": ".NET (C#)",
   "language": "C#",
   "name": ".net-csharp"
  },
  "language_info": {
   "file_extension": ".cs",
   "mimetype": "text/x-csharp",
   "name": "C#",
   "pygments_lexer": "csharp",
   "version": "8.0"
  }
 },
 "nbformat": 4,
 "nbformat_minor": 4
}
