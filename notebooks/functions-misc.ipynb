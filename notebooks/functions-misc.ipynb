{
 "cells": [
  {
   "cell_type": "markdown",
   "metadata": {},
   "source": [
    "# Functions & MISC\n",
    "\n",
    "## Demo\n",
    "\n",
    "`samples\\scripts\\null-coalescing-assignment.csx`\n",
    "\n",
    "* null coalescing assignment C# 8\n",
    "* throw expressions C# 7\n",
    "\n",
    "\n",
    "## Demo\n",
    "\n",
    "`samples\\scripts\\static-local-functions.csx`\n",
    "\n",
    "* static local function C# 8\n",
    "* local function attributes C# 9\n",
    "* ref-return C# 8\n",
    "* simplified default literal C# 7.1\n",
    "\n",
    "## Demo\n",
    "\n",
    "`samples\\scripts\\static-anonymous-functions.csx`\n",
    "\n",
    "* static anonymous functions C# 9\n",
    "\n",
    "## Demo\n",
    "\n",
    "`samples\\scripts\\lambda-discards.csx`\n",
    "\n",
    "* lambda discards C# 9"
   ]
  },
  {
   "cell_type": "markdown",
   "metadata": {},
   "source": [
    "## Reference\n",
    "\n",
    "* https://docs.microsoft.com/en-us/dotnet/csharp/language-reference/proposals/csharp-8.0/null-coalescing-assignment\n",
    "* https://docs.microsoft.com/en-us/dotnet/csharp/language-reference/proposals/csharp-7.0/throw-expression\n",
    "\n",
    "* https://docs.microsoft.com/en-us/dotnet/csharp/language-reference/proposals/csharp-8.0/static-local-functions\n",
    "* https://devblogs.microsoft.com/premier-developer/dissecting-the-local-functions-in-c-7/\n",
    "* https://docs.microsoft.com/en-us/dotnet/csharp/language-reference/proposals/csharp-9.0/local-function-attributes\n",
    "* https://docs.microsoft.com/en-us/dotnet/csharp/programming-guide/classes-and-structs/ref-returns\n",
    "\n",
    "* https://docs.microsoft.com/en-us/dotnet/csharp/language-reference/proposals/csharp-9.0/static-anonymous-functions\n",
    "* https://anthonygiretti.com/2020/10/21/introducing-c-9-static-anonymous-functions/\n",
    "\n",
    "* https://docs.microsoft.com/en-us/dotnet/csharp/language-reference/proposals/csharp-9.0/lambda-discard-parameters"
   ]
  }
 ],
 "metadata": {
  "kernelspec": {
   "display_name": ".NET (C#)",
   "language": "C#",
   "name": ".net-csharp"
  },
  "language_info": {
   "file_extension": ".cs",
   "mimetype": "text/x-csharp",
   "name": "C#",
   "pygments_lexer": "csharp",
   "version": "8.0"
  }
 },
 "nbformat": 4,
 "nbformat_minor": 4
}
