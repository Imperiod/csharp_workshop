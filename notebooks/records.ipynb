{
 "cells": [
  {
   "cell_type": "markdown",
   "metadata": {},
   "source": [
    "# Records\n",
    "\n",
    "* records are classes with value semantics\n",
    "* immutability could be useful in multi-threaded scenarios\n",
    "* positional declaration syntax makes records to be immutable by default\n",
    "\n",
    "## Init only properties\n",
    "\n",
    "```csharp\n",
    "public class Person\n",
    "{\n",
    "    public string? FirstName { get; set; }\n",
    "    public string? LastName { get; set; }\n",
    "}\n",
    "```\n",
    "\n",
    "```csharp\n",
    "public class Person\n",
    "{\n",
    "    public string? FirstName { get; init; }\n",
    "    public string? LastName { get; init; }\n",
    "}\n",
    "```\n",
    "\n",
    "\n",
    "## Records\n",
    "\n",
    "```csharp\n",
    "public record Person2\n",
    "{\n",
    "    public string? FirstName { get; init; }\n",
    "    public string? LastName { get; init; }\n",
    "}\n",
    "```\n",
    "\n",
    "## Positional records\n",
    "\n",
    "```csharp\n",
    "public record Person3(string FirstName, string LastName);\n",
    "```"
   ]
  },
  {
   "cell_type": "markdown",
   "metadata": {},
   "source": [
    "## Demo\n",
    "\n",
    "`./projects/scripts/records.csx`\n",
    "\n",
    "### Internals \n",
    "\n",
    "[sharplab-records](https://sharplab.io/#v2:EYLgtghgzgLgpgJwDQBMQGoA+ABATARgFgAoAYgDsBXAG2omGrgAI5z7GTPjsBmJvJgAVEUAPbkADCQDeJJvP59s+CQH4mAMQCWCWADkIYZtKYBzODADcTKBesBfOQt78V6gDLQYBo0xPmrGzsmR2JQkhcBYV1xImJZYgVFVzVNHX1DYzNgrXItQNCkyLcmTwzffxy8gpJw7j4EOABjUQQUIRFxXBkneWLU7V1vTL9swNz8h17k5VSy4Yqx6wmasK4XRpa2jpjyHgAKWbShnzgkFNKvU4BKS3WG5tb2gGUYShRWGCYQHbFybvi0xcuS+zy2WQC1lsqzqAHpYZoAJIADRIbCMUAADhAmsxlAA6ABKlHIMC0RnxAGFRGBMVpGAhnogAG5aXFQHqJZxKXBMRFQACiAA94Ag2NREdVpKFQkA)"
   ]
  },
  {
   "cell_type": "markdown",
   "metadata": {},
   "source": [
    "## Reference\n",
    "\n",
    "* https://www.youtube.com/watch?v=x3kWzPKoRXc&ab_channel=dotNET\n",
    "* https://devblogs.microsoft.com/dotnet/c-9-0-on-the-record\n",
    "* https://docs.microsoft.com/en-us/dotnet/csharp/whats-new/csharp-9#record-types\n",
    "* https://m.habr.com/ru/company/skillfactory/blog/527514/\n",
    "* https://daveabrock.com/2020/11/02/csharp-9-records-immutable-default\n",
    "* https://daveabrock.com/2020/07/06/c-sharp-9-deep-dive-records\n",
    "* https://www.thomasclaudiushuber.com/2020/08/25/c-9-0-init-only-properties/\n",
    "* https://www.thomasclaudiushuber.com/2020/09/01/c-9-0-records-work-with-immutable-data-classes/\n",
    "* https://www.youtube.com/watch?v=qiuzCWwYe0Y&ab_channel=dotNET\n",
    "* https://www.youtube.com/watch?v=oSQDZ7GpKwg&ab_channel=FilipEkberg"
   ]
  }
 ],
 "metadata": {
  "kernelspec": {
   "display_name": ".NET (C#)",
   "language": "C#",
   "name": ".net-csharp"
  },
  "language_info": {
   "file_extension": ".cs",
   "mimetype": "text/x-csharp",
   "name": "C#",
   "pygments_lexer": "csharp",
   "version": "8.0"
  }
 },
 "nbformat": 4,
 "nbformat_minor": 4
}
