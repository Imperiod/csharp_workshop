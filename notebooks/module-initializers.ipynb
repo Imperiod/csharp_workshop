{
 "cells": [
  {
   "cell_type": "markdown",
   "metadata": {},
   "source": [
    "# Module Initializers\n",
    "\n",
    "* .NET platform has a feature that directly supports writing initialization code for the assembly (technically, the module), it is not exposed in C#\n",
    "* Enable source generators to run some global initialization logic without the user needing to explicitly call anything\n",
    "\n",
    "```csharp\n",
    "using System;\n",
    "namespace System.Runtime.CompilerServices\n",
    "{\n",
    "    [AttributeUsage(AttributeTargets.Method, AllowMultiple = false)]\n",
    "    public sealed class ModuleInitializerAttribute : Attribute { }\n",
    "}\n",
    "```\n",
    "\n",
    "\n",
    "```csharp\n",
    "using System.Runtime.CompilerServices;\n",
    "class C\n",
    "{\n",
    "    [ModuleInitializer]\n",
    "    internal static void M1()\n",
    "    {\n",
    "        // ...\n",
    "    }\n",
    "}\n",
    "```\n",
    "\n",
    "* A module initialization method must be `static`.\n",
    "* The method must be parameterless.\n",
    "* The method must return `void` or `async void`.\n",
    "* The method cannot be generic or contained in a generic type.\n",
    "* The method must be accessible in the module using `public` or `internal`.\n",
    "\n",
    "## Usage\n",
    "\n",
    "Module initialization can help us avoid deadlocking and startup race conditions that are hell to debug.\n",
    "Startup initialization has advantages both in potential runtime performance gains and security.\n",
    "\n",
    "## Demo\n",
    "\n",
    "`samples\\projects\\module-init`\n",
    "\n",
    "```csharp\n",
    "using System;\n",
    "using System.Runtime.CompilerServices;\n",
    "using System.Threading;\n",
    "using System.Threading.Tasks;\n",
    "\n",
    "namespace Preview\n",
    "{\n",
    "    class Program\n",
    "    {\n",
    "        public static int counter = 0;\n",
    "            \n",
    "        [ModuleInitializer]\n",
    "        public static void Main()\n",
    "        {\n",
    "            Console.WriteLine($\"Hello world {++counter}\");\n",
    "        }\n",
    "    }\n",
    "}\n",
    "```"
   ]
  },
  {
   "cell_type": "markdown",
   "metadata": {},
   "source": [
    "## Reference\n",
    "\n",
    "* https://docs.microsoft.com/en-us/dotnet/csharp/language-reference/proposals/csharp-9.0/module-initializers\n",
    "* https://khalidabuhakmeh.com/module-initializers-in-csharp-9\n",
    "* https://github.com/dotnet/csharplang/issues/2608"
   ]
  }
 ],
 "metadata": {
  "kernelspec": {
   "display_name": ".NET (C#)",
   "language": "C#",
   "name": ".net-csharp"
  },
  "language_info": {
   "file_extension": ".cs",
   "mimetype": "text/x-csharp",
   "name": "C#",
   "pygments_lexer": "csharp",
   "version": "8.0"
  }
 },
 "nbformat": 4,
 "nbformat_minor": 4
}
